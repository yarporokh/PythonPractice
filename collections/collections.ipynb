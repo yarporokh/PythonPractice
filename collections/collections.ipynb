{
 "cells": [
  {
   "cell_type": "code",
   "execution_count": 1,
   "id": "a22f4875",
   "metadata": {},
   "outputs": [],
   "source": [
    "from collections import deque"
   ]
  },
  {
   "cell_type": "code",
   "execution_count": 2,
   "id": "8648d5c1",
   "metadata": {},
   "outputs": [],
   "source": [
    "l = [\"John\", \"Bob\", \"Chester\"]\n",
    "queue = deque(l)"
   ]
  },
  {
   "cell_type": "code",
   "execution_count": 3,
   "id": "5fe8a168",
   "metadata": {},
   "outputs": [],
   "source": [
    "queue.append(\"Olivia\")"
   ]
  },
  {
   "cell_type": "code",
   "execution_count": 4,
   "id": "8f892d79",
   "metadata": {},
   "outputs": [],
   "source": [
    "queue.appendleft(\"Emma\")"
   ]
  },
  {
   "cell_type": "code",
   "execution_count": 5,
   "id": "590850eb",
   "metadata": {},
   "outputs": [
    {
     "data": {
      "text/plain": [
       "deque(['Emma', 'John', 'Bob', 'Chester', 'Olivia'])"
      ]
     },
     "execution_count": 5,
     "metadata": {},
     "output_type": "execute_result"
    }
   ],
   "source": [
    "queue"
   ]
  },
  {
   "cell_type": "code",
   "execution_count": 6,
   "id": "544b0395",
   "metadata": {},
   "outputs": [
    {
     "data": {
      "text/plain": [
       "'Emma'"
      ]
     },
     "execution_count": 6,
     "metadata": {},
     "output_type": "execute_result"
    }
   ],
   "source": [
    "queue.popleft()"
   ]
  },
  {
   "cell_type": "code",
   "execution_count": 7,
   "id": "eea3235f",
   "metadata": {},
   "outputs": [
    {
     "data": {
      "text/plain": [
       "1"
      ]
     },
     "execution_count": 7,
     "metadata": {},
     "output_type": "execute_result"
    }
   ],
   "source": [
    "queue.count(\"Bob\")"
   ]
  },
  {
   "cell_type": "code",
   "execution_count": 8,
   "id": "004d76c7",
   "metadata": {},
   "outputs": [
    {
     "data": {
      "text/plain": [
       "0"
      ]
     },
     "execution_count": 8,
     "metadata": {},
     "output_type": "execute_result"
    }
   ],
   "source": [
    "queue.count(\"Rob\")"
   ]
  },
  {
   "cell_type": "code",
   "execution_count": 9,
   "id": "2663d164",
   "metadata": {},
   "outputs": [],
   "source": [
    "l2 = [\"Kate\", \"Ray\", \"Elizabeth\"]\n",
    "queue.extend(l2)"
   ]
  },
  {
   "cell_type": "code",
   "execution_count": 10,
   "id": "4ad568d4",
   "metadata": {},
   "outputs": [
    {
     "data": {
      "text/plain": [
       "deque(['John', 'Bob', 'Chester', 'Olivia', 'Kate', 'Ray', 'Elizabeth'])"
      ]
     },
     "execution_count": 10,
     "metadata": {},
     "output_type": "execute_result"
    }
   ],
   "source": [
    "queue"
   ]
  },
  {
   "cell_type": "code",
   "execution_count": 11,
   "id": "00f7b567",
   "metadata": {},
   "outputs": [],
   "source": [
    "from collections import Counter"
   ]
  },
  {
   "cell_type": "code",
   "execution_count": 12,
   "id": "84941246",
   "metadata": {},
   "outputs": [],
   "source": [
    "l = [\"apple\", \"banana\", \"banana\", \"strawberry\", \"apple\", \"apple\"]\n",
    "c = Counter(l)"
   ]
  },
  {
   "cell_type": "code",
   "execution_count": 13,
   "id": "b5b510a7",
   "metadata": {},
   "outputs": [
    {
     "data": {
      "text/plain": [
       "[('apple', 3), ('banana', 2), ('strawberry', 1)]"
      ]
     },
     "execution_count": 13,
     "metadata": {},
     "output_type": "execute_result"
    }
   ],
   "source": [
    "c.most_common()"
   ]
  },
  {
   "cell_type": "code",
   "execution_count": 14,
   "id": "2756c776",
   "metadata": {},
   "outputs": [
    {
     "data": {
      "text/plain": [
       "['apple', 'apple', 'apple', 'banana', 'banana', 'strawberry']"
      ]
     },
     "execution_count": 14,
     "metadata": {},
     "output_type": "execute_result"
    }
   ],
   "source": [
    "sorted(c.elements())"
   ]
  },
  {
   "cell_type": "code",
   "execution_count": 15,
   "id": "756cb58a",
   "metadata": {},
   "outputs": [],
   "source": [
    "c = Counter(q = 3, w = 0, e = 2)"
   ]
  },
  {
   "cell_type": "code",
   "execution_count": 16,
   "id": "2385638c",
   "metadata": {},
   "outputs": [
    {
     "data": {
      "text/plain": [
       "['q', 'q', 'q', 'e', 'e']"
      ]
     },
     "execution_count": 16,
     "metadata": {},
     "output_type": "execute_result"
    }
   ],
   "source": [
    "list(c.elements())"
   ]
  },
  {
   "cell_type": "code",
   "execution_count": 17,
   "id": "4d0b60a8",
   "metadata": {},
   "outputs": [
    {
     "data": {
      "text/plain": [
       "['q', 'w', 'e']"
      ]
     },
     "execution_count": 17,
     "metadata": {},
     "output_type": "execute_result"
    }
   ],
   "source": [
    "list(c)"
   ]
  },
  {
   "cell_type": "code",
   "execution_count": 18,
   "id": "33e30b2b",
   "metadata": {},
   "outputs": [],
   "source": [
    "c1 = Counter(q = 2, w = 2, e = 1)"
   ]
  },
  {
   "cell_type": "code",
   "execution_count": 19,
   "id": "3d964b7c",
   "metadata": {},
   "outputs": [],
   "source": [
    "c.subtract(c1)"
   ]
  },
  {
   "cell_type": "code",
   "execution_count": 20,
   "id": "b41c2af0",
   "metadata": {},
   "outputs": [
    {
     "data": {
      "text/plain": [
       "Counter({'q': 1, 'w': -2, 'e': 1})"
      ]
     },
     "execution_count": 20,
     "metadata": {},
     "output_type": "execute_result"
    }
   ],
   "source": [
    "c"
   ]
  },
  {
   "cell_type": "code",
   "execution_count": 22,
   "id": "4a6c61d8",
   "metadata": {},
   "outputs": [
    {
     "data": {
      "text/plain": [
       "dict_values([1, -2, 1])"
      ]
     },
     "execution_count": 22,
     "metadata": {},
     "output_type": "execute_result"
    }
   ],
   "source": [
    "c.values()"
   ]
  },
  {
   "cell_type": "code",
   "execution_count": 23,
   "id": "6acb094b",
   "metadata": {},
   "outputs": [
    {
     "data": {
      "text/plain": [
       "Counter({'q': 1, 'e': 1})"
      ]
     },
     "execution_count": 23,
     "metadata": {},
     "output_type": "execute_result"
    }
   ],
   "source": [
    "+c"
   ]
  },
  {
   "cell_type": "code",
   "execution_count": 24,
   "id": "fdcb0194",
   "metadata": {},
   "outputs": [
    {
     "data": {
      "text/plain": [
       "Counter({'w': 2})"
      ]
     },
     "execution_count": 24,
     "metadata": {},
     "output_type": "execute_result"
    }
   ],
   "source": [
    "-c"
   ]
  },
  {
   "cell_type": "code",
   "execution_count": 26,
   "id": "7fd18de1",
   "metadata": {},
   "outputs": [],
   "source": [
    "from collections import namedtuple"
   ]
  },
  {
   "cell_type": "code",
   "execution_count": 27,
   "id": "57b4f6c9",
   "metadata": {},
   "outputs": [],
   "source": [
    "Car = namedtuple('Car', ['model', 'year', 'price'])"
   ]
  },
  {
   "cell_type": "code",
   "execution_count": 28,
   "id": "df28a84c",
   "metadata": {},
   "outputs": [],
   "source": [
    "c = Car('BMW', 2022, 20000)"
   ]
  },
  {
   "cell_type": "code",
   "execution_count": 29,
   "id": "13c8cc84",
   "metadata": {},
   "outputs": [
    {
     "data": {
      "text/plain": [
       "Car(model='BMW', year=2022, price=20000)"
      ]
     },
     "execution_count": 29,
     "metadata": {},
     "output_type": "execute_result"
    }
   ],
   "source": [
    "c"
   ]
  },
  {
   "cell_type": "code",
   "execution_count": 30,
   "id": "89d07744",
   "metadata": {},
   "outputs": [
    {
     "data": {
      "text/plain": [
       "{'model': 'BMW', 'year': 2022, 'price': 20000}"
      ]
     },
     "execution_count": 30,
     "metadata": {},
     "output_type": "execute_result"
    }
   ],
   "source": [
    "c._asdict()"
   ]
  },
  {
   "cell_type": "code",
   "execution_count": 32,
   "id": "88d93475",
   "metadata": {},
   "outputs": [
    {
     "data": {
      "text/plain": [
       "('model', 'year', 'price')"
      ]
     },
     "execution_count": 32,
     "metadata": {},
     "output_type": "execute_result"
    }
   ],
   "source": [
    "c._fields"
   ]
  },
  {
   "cell_type": "code",
   "execution_count": 2,
   "id": "bdd8b861",
   "metadata": {},
   "outputs": [],
   "source": [
    "from collections import ChainMap"
   ]
  },
  {
   "cell_type": "code",
   "execution_count": 3,
   "id": "8bf1017c",
   "metadata": {},
   "outputs": [],
   "source": [
    "l = {\"A\": 1, \"B\": 2}\n",
    "n = {\"a\": \"one\", \"b\": \"two\"}\n",
    "map = ChainMap(l, n)"
   ]
  },
  {
   "cell_type": "code",
   "execution_count": 4,
   "id": "b4269e7f",
   "metadata": {},
   "outputs": [
    {
     "data": {
      "text/plain": [
       "'one'"
      ]
     },
     "execution_count": 4,
     "metadata": {},
     "output_type": "execute_result"
    }
   ],
   "source": [
    "map[\"a\"]"
   ]
  },
  {
   "cell_type": "code",
   "execution_count": 5,
   "id": "8d243b8c",
   "metadata": {},
   "outputs": [
    {
     "ename": "KeyError",
     "evalue": "'c'",
     "output_type": "error",
     "traceback": [
      "\u001b[1;31m---------------------------------------------------------------------------\u001b[0m",
      "\u001b[1;31mKeyError\u001b[0m                                  Traceback (most recent call last)",
      "\u001b[1;32m~\\AppData\\Local\\Temp/ipykernel_3956/3103355490.py\u001b[0m in \u001b[0;36m<module>\u001b[1;34m\u001b[0m\n\u001b[1;32m----> 1\u001b[1;33m \u001b[0mmap\u001b[0m\u001b[1;33m[\u001b[0m\u001b[1;34m\"c\"\u001b[0m\u001b[1;33m]\u001b[0m\u001b[1;33m\u001b[0m\u001b[1;33m\u001b[0m\u001b[0m\n\u001b[0m",
      "\u001b[1;32m~\\AppData\\Local\\Programs\\Python\\Python39\\lib\\collections\\__init__.py\u001b[0m in \u001b[0;36m__getitem__\u001b[1;34m(self, key)\u001b[0m\n\u001b[0;32m    939\u001b[0m             \u001b[1;32mexcept\u001b[0m \u001b[0mKeyError\u001b[0m\u001b[1;33m:\u001b[0m\u001b[1;33m\u001b[0m\u001b[1;33m\u001b[0m\u001b[0m\n\u001b[0;32m    940\u001b[0m                 \u001b[1;32mpass\u001b[0m\u001b[1;33m\u001b[0m\u001b[1;33m\u001b[0m\u001b[0m\n\u001b[1;32m--> 941\u001b[1;33m         \u001b[1;32mreturn\u001b[0m \u001b[0mself\u001b[0m\u001b[1;33m.\u001b[0m\u001b[0m__missing__\u001b[0m\u001b[1;33m(\u001b[0m\u001b[0mkey\u001b[0m\u001b[1;33m)\u001b[0m            \u001b[1;31m# support subclasses that define __missing__\u001b[0m\u001b[1;33m\u001b[0m\u001b[1;33m\u001b[0m\u001b[0m\n\u001b[0m\u001b[0;32m    942\u001b[0m \u001b[1;33m\u001b[0m\u001b[0m\n\u001b[0;32m    943\u001b[0m     \u001b[1;32mdef\u001b[0m \u001b[0mget\u001b[0m\u001b[1;33m(\u001b[0m\u001b[0mself\u001b[0m\u001b[1;33m,\u001b[0m \u001b[0mkey\u001b[0m\u001b[1;33m,\u001b[0m \u001b[0mdefault\u001b[0m\u001b[1;33m=\u001b[0m\u001b[1;32mNone\u001b[0m\u001b[1;33m)\u001b[0m\u001b[1;33m:\u001b[0m\u001b[1;33m\u001b[0m\u001b[1;33m\u001b[0m\u001b[0m\n",
      "\u001b[1;32m~\\AppData\\Local\\Programs\\Python\\Python39\\lib\\collections\\__init__.py\u001b[0m in \u001b[0;36m__missing__\u001b[1;34m(self, key)\u001b[0m\n\u001b[0;32m    931\u001b[0m \u001b[1;33m\u001b[0m\u001b[0m\n\u001b[0;32m    932\u001b[0m     \u001b[1;32mdef\u001b[0m \u001b[0m__missing__\u001b[0m\u001b[1;33m(\u001b[0m\u001b[0mself\u001b[0m\u001b[1;33m,\u001b[0m \u001b[0mkey\u001b[0m\u001b[1;33m)\u001b[0m\u001b[1;33m:\u001b[0m\u001b[1;33m\u001b[0m\u001b[1;33m\u001b[0m\u001b[0m\n\u001b[1;32m--> 933\u001b[1;33m         \u001b[1;32mraise\u001b[0m \u001b[0mKeyError\u001b[0m\u001b[1;33m(\u001b[0m\u001b[0mkey\u001b[0m\u001b[1;33m)\u001b[0m\u001b[1;33m\u001b[0m\u001b[1;33m\u001b[0m\u001b[0m\n\u001b[0m\u001b[0;32m    934\u001b[0m \u001b[1;33m\u001b[0m\u001b[0m\n\u001b[0;32m    935\u001b[0m     \u001b[1;32mdef\u001b[0m \u001b[0m__getitem__\u001b[0m\u001b[1;33m(\u001b[0m\u001b[0mself\u001b[0m\u001b[1;33m,\u001b[0m \u001b[0mkey\u001b[0m\u001b[1;33m)\u001b[0m\u001b[1;33m:\u001b[0m\u001b[1;33m\u001b[0m\u001b[1;33m\u001b[0m\u001b[0m\n",
      "\u001b[1;31mKeyError\u001b[0m: 'c'"
     ]
    }
   ],
   "source": [
    "map[\"c\"]"
   ]
  },
  {
   "cell_type": "code",
   "execution_count": 6,
   "id": "7ed6a286",
   "metadata": {},
   "outputs": [
    {
     "name": "stdout",
     "output_type": "stream",
     "text": [
      "a: one\n",
      "b: two\n",
      "A: 1\n",
      "B: 2\n"
     ]
    }
   ],
   "source": [
    "for k, v in map.items():\n",
    "    print(f\"{k}: {v}\")"
   ]
  },
  {
   "cell_type": "code",
   "execution_count": 7,
   "id": "fcd9addd",
   "metadata": {},
   "outputs": [],
   "source": [
    "map['c'] = \"three\""
   ]
  },
  {
   "cell_type": "code",
   "execution_count": 8,
   "id": "b0d8663c",
   "metadata": {},
   "outputs": [
    {
     "data": {
      "text/plain": [
       "ChainMap({'A': 1, 'B': 2, 'c': 'three'}, {'a': 'one', 'b': 'two'})"
      ]
     },
     "execution_count": 8,
     "metadata": {},
     "output_type": "execute_result"
    }
   ],
   "source": [
    "map"
   ]
  },
  {
   "cell_type": "code",
   "execution_count": 10,
   "id": "7ad548a0",
   "metadata": {},
   "outputs": [
    {
     "data": {
      "text/plain": [
       "1"
      ]
     },
     "execution_count": 10,
     "metadata": {},
     "output_type": "execute_result"
    }
   ],
   "source": [
    "map.pop(\"A\")"
   ]
  },
  {
   "cell_type": "code",
   "execution_count": 11,
   "id": "9293b402",
   "metadata": {},
   "outputs": [
    {
     "ename": "KeyError",
     "evalue": "\"Key not found in the first mapping: 'a'\"",
     "output_type": "error",
     "traceback": [
      "\u001b[1;31m---------------------------------------------------------------------------\u001b[0m",
      "\u001b[1;31mKeyError\u001b[0m                                  Traceback (most recent call last)",
      "\u001b[1;32m~\\AppData\\Local\\Programs\\Python\\Python39\\lib\\collections\\__init__.py\u001b[0m in \u001b[0;36mpop\u001b[1;34m(self, key, *args)\u001b[0m\n\u001b[0;32m   1007\u001b[0m         \u001b[1;32mtry\u001b[0m\u001b[1;33m:\u001b[0m\u001b[1;33m\u001b[0m\u001b[1;33m\u001b[0m\u001b[0m\n\u001b[1;32m-> 1008\u001b[1;33m             \u001b[1;32mreturn\u001b[0m \u001b[0mself\u001b[0m\u001b[1;33m.\u001b[0m\u001b[0mmaps\u001b[0m\u001b[1;33m[\u001b[0m\u001b[1;36m0\u001b[0m\u001b[1;33m]\u001b[0m\u001b[1;33m.\u001b[0m\u001b[0mpop\u001b[0m\u001b[1;33m(\u001b[0m\u001b[0mkey\u001b[0m\u001b[1;33m,\u001b[0m \u001b[1;33m*\u001b[0m\u001b[0margs\u001b[0m\u001b[1;33m)\u001b[0m\u001b[1;33m\u001b[0m\u001b[1;33m\u001b[0m\u001b[0m\n\u001b[0m\u001b[0;32m   1009\u001b[0m         \u001b[1;32mexcept\u001b[0m \u001b[0mKeyError\u001b[0m\u001b[1;33m:\u001b[0m\u001b[1;33m\u001b[0m\u001b[1;33m\u001b[0m\u001b[0m\n",
      "\u001b[1;31mKeyError\u001b[0m: 'a'",
      "\nDuring handling of the above exception, another exception occurred:\n",
      "\u001b[1;31mKeyError\u001b[0m                                  Traceback (most recent call last)",
      "\u001b[1;32m~\\AppData\\Local\\Temp/ipykernel_3956/4143565090.py\u001b[0m in \u001b[0;36m<module>\u001b[1;34m\u001b[0m\n\u001b[1;32m----> 1\u001b[1;33m \u001b[0mmap\u001b[0m\u001b[1;33m.\u001b[0m\u001b[0mpop\u001b[0m\u001b[1;33m(\u001b[0m\u001b[1;34m\"a\"\u001b[0m\u001b[1;33m)\u001b[0m\u001b[1;33m\u001b[0m\u001b[1;33m\u001b[0m\u001b[0m\n\u001b[0m",
      "\u001b[1;32m~\\AppData\\Local\\Programs\\Python\\Python39\\lib\\collections\\__init__.py\u001b[0m in \u001b[0;36mpop\u001b[1;34m(self, key, *args)\u001b[0m\n\u001b[0;32m   1008\u001b[0m             \u001b[1;32mreturn\u001b[0m \u001b[0mself\u001b[0m\u001b[1;33m.\u001b[0m\u001b[0mmaps\u001b[0m\u001b[1;33m[\u001b[0m\u001b[1;36m0\u001b[0m\u001b[1;33m]\u001b[0m\u001b[1;33m.\u001b[0m\u001b[0mpop\u001b[0m\u001b[1;33m(\u001b[0m\u001b[0mkey\u001b[0m\u001b[1;33m,\u001b[0m \u001b[1;33m*\u001b[0m\u001b[0margs\u001b[0m\u001b[1;33m)\u001b[0m\u001b[1;33m\u001b[0m\u001b[1;33m\u001b[0m\u001b[0m\n\u001b[0;32m   1009\u001b[0m         \u001b[1;32mexcept\u001b[0m \u001b[0mKeyError\u001b[0m\u001b[1;33m:\u001b[0m\u001b[1;33m\u001b[0m\u001b[1;33m\u001b[0m\u001b[0m\n\u001b[1;32m-> 1010\u001b[1;33m             \u001b[1;32mraise\u001b[0m \u001b[0mKeyError\u001b[0m\u001b[1;33m(\u001b[0m\u001b[1;34mf'Key not found in the first mapping: {key!r}'\u001b[0m\u001b[1;33m)\u001b[0m\u001b[1;33m\u001b[0m\u001b[1;33m\u001b[0m\u001b[0m\n\u001b[0m\u001b[0;32m   1011\u001b[0m \u001b[1;33m\u001b[0m\u001b[0m\n\u001b[0;32m   1012\u001b[0m     \u001b[1;32mdef\u001b[0m \u001b[0mclear\u001b[0m\u001b[1;33m(\u001b[0m\u001b[0mself\u001b[0m\u001b[1;33m)\u001b[0m\u001b[1;33m:\u001b[0m\u001b[1;33m\u001b[0m\u001b[1;33m\u001b[0m\u001b[0m\n",
      "\u001b[1;31mKeyError\u001b[0m: \"Key not found in the first mapping: 'a'\""
     ]
    }
   ],
   "source": [
    "map.pop(\"a\")"
   ]
  },
  {
   "cell_type": "code",
   "execution_count": 13,
   "id": "8e90d92b",
   "metadata": {},
   "outputs": [],
   "source": [
    "del map[\"c\"]"
   ]
  },
  {
   "cell_type": "code",
   "execution_count": 14,
   "id": "ef0e8a86",
   "metadata": {},
   "outputs": [],
   "source": [
    "map.clear()"
   ]
  },
  {
   "cell_type": "code",
   "execution_count": 15,
   "id": "8847db23",
   "metadata": {},
   "outputs": [
    {
     "data": {
      "text/plain": [
       "ChainMap({}, {'a': 'one', 'b': 'two'})"
      ]
     },
     "execution_count": 15,
     "metadata": {},
     "output_type": "execute_result"
    }
   ],
   "source": [
    "map"
   ]
  },
  {
   "cell_type": "code",
   "execution_count": 16,
   "id": "d9a1d8e9",
   "metadata": {},
   "outputs": [],
   "source": [
    "col1 = {\"red\": 2, \"yellow\": 5, \"blue\": 3}\n",
    "col2 = {\"black\": 6, \"pink\": 1}\n",
    "col = ChainMap(col1, col2)"
   ]
  },
  {
   "cell_type": "code",
   "execution_count": 18,
   "id": "127b52d7",
   "metadata": {},
   "outputs": [
    {
     "data": {
      "text/plain": [
       "[{'red': 2, 'yellow': 5, 'blue': 3}, {'black': 6, 'pink': 1}]"
      ]
     },
     "execution_count": 18,
     "metadata": {},
     "output_type": "execute_result"
    }
   ],
   "source": [
    "col.maps"
   ]
  },
  {
   "cell_type": "code",
   "execution_count": 19,
   "id": "205ee214",
   "metadata": {},
   "outputs": [],
   "source": [
    "del col.maps[1]"
   ]
  },
  {
   "cell_type": "code",
   "execution_count": 20,
   "id": "e0113493",
   "metadata": {},
   "outputs": [
    {
     "data": {
      "text/plain": [
       "[{'red': 2, 'yellow': 5, 'blue': 3}]"
      ]
     },
     "execution_count": 20,
     "metadata": {},
     "output_type": "execute_result"
    }
   ],
   "source": [
    "col.maps"
   ]
  },
  {
   "cell_type": "code",
   "execution_count": 21,
   "id": "b17f68e1",
   "metadata": {},
   "outputs": [],
   "source": [
    "col3 = {\"purple\": 7, \"green\": 2}\n",
    "col = col.new_child(col3)"
   ]
  },
  {
   "cell_type": "code",
   "execution_count": 22,
   "id": "a316df53",
   "metadata": {},
   "outputs": [
    {
     "data": {
      "text/plain": [
       "ChainMap({'purple': 7, 'green': 2}, {'red': 2, 'yellow': 5, 'blue': 3})"
      ]
     },
     "execution_count": 22,
     "metadata": {},
     "output_type": "execute_result"
    }
   ],
   "source": [
    "col"
   ]
  },
  {
   "cell_type": "code",
   "execution_count": 23,
   "id": "e192e1ee",
   "metadata": {},
   "outputs": [],
   "source": [
    "col.maps.reverse()"
   ]
  },
  {
   "cell_type": "code",
   "execution_count": 24,
   "id": "4e907c5f",
   "metadata": {},
   "outputs": [
    {
     "data": {
      "text/plain": [
       "ChainMap({'red': 2, 'yellow': 5, 'blue': 3}, {'purple': 7, 'green': 2})"
      ]
     },
     "execution_count": 24,
     "metadata": {},
     "output_type": "execute_result"
    }
   ],
   "source": [
    "col"
   ]
  },
  {
   "cell_type": "code",
   "execution_count": 25,
   "id": "8b41ddf1",
   "metadata": {},
   "outputs": [],
   "source": [
    "clothes_prices1 = {\"cap\": 20, \"jacket\": 30, \"t-shirt\": 15}\n",
    "clothes_prices2 = {\"pants\": 10, \"sneakers\": 25}\n",
    "clothes = ChainMap(clothes_prices1, clothes_prices2)\n",
    "\n",
    "order = {\"sneakers\": 3, \"t-shirt\": 7, \"jacket\": 1}"
   ]
  },
  {
   "cell_type": "code",
   "execution_count": 26,
   "id": "e300604a",
   "metadata": {},
   "outputs": [
    {
     "name": "stdout",
     "output_type": "stream",
     "text": [
      "sneakers: 3 * 25 = 75\n",
      "t-shirt: 7 * 15 = 105\n",
      "jacket: 1 * 30 = 30\n"
     ]
    }
   ],
   "source": [
    "for p, u in order.items():\n",
    "    price = clothes[p]\n",
    "    total = price * u\n",
    "    print(f\"{p}: {u} * {price} = {total}\")"
   ]
  }
 ],
 "metadata": {
  "kernelspec": {
   "display_name": "Python 3 (ipykernel)",
   "language": "python",
   "name": "python3"
  },
  "language_info": {
   "codemirror_mode": {
    "name": "ipython",
    "version": 3
   },
   "file_extension": ".py",
   "mimetype": "text/x-python",
   "name": "python",
   "nbconvert_exporter": "python",
   "pygments_lexer": "ipython3",
   "version": "3.9.1"
  }
 },
 "nbformat": 4,
 "nbformat_minor": 5
}
