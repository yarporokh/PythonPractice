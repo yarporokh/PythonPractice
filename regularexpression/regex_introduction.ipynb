{
 "cells": [
  {
   "cell_type": "code",
   "execution_count": 1,
   "id": "81696854",
   "metadata": {},
   "outputs": [],
   "source": [
    "import re"
   ]
  },
  {
   "cell_type": "code",
   "execution_count": 3,
   "id": "87e49c42",
   "metadata": {},
   "outputs": [
    {
     "name": "stdout",
     "output_type": "stream",
     "text": [
      "There is\n"
     ]
    }
   ],
   "source": [
    "text = \"My name is Rob\"\n",
    "\n",
    "if re.search(\"name\", text):\n",
    "    print(\"There is\")\n",
    "else:\n",
    "    print(\"Not exist\")"
   ]
  },
  {
   "cell_type": "code",
   "execution_count": 4,
   "id": "638b3f77",
   "metadata": {},
   "outputs": [
    {
     "data": {
      "text/plain": [
       "['', ' tangerines, ', ' and red flowers, ', ' fanta']"
      ]
     },
     "execution_count": 4,
     "metadata": {},
     "output_type": "execute_result"
    }
   ],
   "source": [
    "text = \"orange tangerines, orange and red flowers, orange fanta\"\n",
    "\n",
    "re.split(\"orange\", text)"
   ]
  },
  {
   "cell_type": "code",
   "execution_count": 5,
   "id": "b0f6a6fd",
   "metadata": {},
   "outputs": [
    {
     "data": {
      "text/plain": [
       "['orange', 'orange', 'orange']"
      ]
     },
     "execution_count": 5,
     "metadata": {},
     "output_type": "execute_result"
    }
   ],
   "source": [
    "re.findall(\"orange\", text)"
   ]
  },
  {
   "cell_type": "code",
   "execution_count": 7,
   "id": "a69c77f5",
   "metadata": {},
   "outputs": [
    {
     "data": {
      "text/plain": [
       "<re.Match object; span=(0, 6), match='orange'>"
      ]
     },
     "execution_count": 7,
     "metadata": {},
     "output_type": "execute_result"
    }
   ],
   "source": [
    "re.search(\"^orange\", text)"
   ]
  },
  {
   "cell_type": "code",
   "execution_count": 21,
   "id": "ce8c6afd",
   "metadata": {},
   "outputs": [
    {
     "data": {
      "text/plain": [
       "['S', 'F', 'S', 'F', 'F', 'F', 'S', 'S', 'S', 'F', 'F']"
      ]
     },
     "execution_count": 21,
     "metadata": {},
     "output_type": "execute_result"
    }
   ],
   "source": [
    "a = \"ASFSAAAAAFFFAASSSAFAF\"\n",
    "re.findall(\"[SF]\", a)"
   ]
  },
  {
   "cell_type": "code",
   "execution_count": 23,
   "id": "ad8d81ca",
   "metadata": {},
   "outputs": [
    {
     "data": {
      "text/plain": [
       "['S', 'F', 'S', 'F', 'F', 'F', 'S', 'S', 'S', 'F', 'F']"
      ]
     },
     "execution_count": 23,
     "metadata": {},
     "output_type": "execute_result"
    }
   ],
   "source": [
    "re.findall(\"[^A]\", a)"
   ]
  },
  {
   "cell_type": "code",
   "execution_count": 24,
   "id": "025303e6",
   "metadata": {},
   "outputs": [
    {
     "data": {
      "text/plain": [
       "[]"
      ]
     },
     "execution_count": 24,
     "metadata": {},
     "output_type": "execute_result"
    }
   ],
   "source": [
    "re.findall(\"^[^A]\", a)"
   ]
  },
  {
   "cell_type": "code",
   "execution_count": 26,
   "id": "7d8ea5cd",
   "metadata": {},
   "outputs": [
    {
     "data": {
      "text/plain": [
       "['A']"
      ]
     },
     "execution_count": 26,
     "metadata": {},
     "output_type": "execute_result"
    }
   ],
   "source": [
    "re.findall(\"^[^S]\", a)"
   ]
  },
  {
   "cell_type": "code",
   "execution_count": 32,
   "id": "510d9ca9",
   "metadata": {},
   "outputs": [
    {
     "data": {
      "text/plain": [
       "['AAAAA', 'AA']"
      ]
     },
     "execution_count": 32,
     "metadata": {},
     "output_type": "execute_result"
    }
   ],
   "source": [
    "re.findall(\"A{2,10}\", a)"
   ]
  },
  {
   "cell_type": "code",
   "execution_count": 33,
   "id": "87a3351d",
   "metadata": {},
   "outputs": [
    {
     "data": {
      "text/plain": [
       "['AA', 'AA', 'AA']"
      ]
     },
     "execution_count": 33,
     "metadata": {},
     "output_type": "execute_result"
    }
   ],
   "source": [
    "re.findall(\"A{1,1}A{1,1}\", a)"
   ]
  },
  {
   "cell_type": "code",
   "execution_count": 34,
   "id": "157dc47d",
   "metadata": {},
   "outputs": [
    {
     "data": {
      "text/plain": [
       "['AA', 'AA', 'AA']"
      ]
     },
     "execution_count": 34,
     "metadata": {},
     "output_type": "execute_result"
    }
   ],
   "source": [
    "re.findall(\"A{2,2}\", a)"
   ]
  },
  {
   "cell_type": "code",
   "execution_count": 35,
   "id": "6ea05d2b",
   "metadata": {},
   "outputs": [
    {
     "data": {
      "text/plain": [
       "['SS']"
      ]
     },
     "execution_count": 35,
     "metadata": {},
     "output_type": "execute_result"
    }
   ],
   "source": [
    "re.findall(\"SS\", a)"
   ]
  },
  {
   "cell_type": "code",
   "execution_count": 37,
   "id": "385bf22c",
   "metadata": {},
   "outputs": [
    {
     "data": {
      "text/plain": [
       "['ASF']"
      ]
     },
     "execution_count": 37,
     "metadata": {},
     "output_type": "execute_result"
    }
   ],
   "source": [
    "re.findall(\"A{1,10}S{1,10}F{1,10}\", a)"
   ]
  },
  {
   "cell_type": "code",
   "execution_count": 42,
   "id": "0812389c",
   "metadata": {},
   "outputs": [
    {
     "data": {
      "text/plain": [
       "'Overview[edit]\\nFERPA gives parents access to their child\\'s education records, an opportunity to seek to have the records amended, and some control over the disclosure of information from the records. With several exceptions, schools must have a student\\'s consent prior to the disclosure of education records after that student is 18 years old. The law applies only to educational agencies and institutions that receive funds under a program administered by the U.S. Department of Education.\\n\\nOther regulations under this act, effective starting January 3, 2012, allow for greater disclosures of personal and directory student identifying information and regulate student IDs and e-mail addresses.[2] For example, schools may provide external companies with a student\\'s personally identifiable information without the student\\'s consent.[2]\\n\\nExamples of situations affected by FERPA include school employees divulging information to anyone other than the student about the student\\'s grades or behavior, and school work posted on a bulletin board with a grade. Generally, schools must have written permission from the parent or eligible student in order to release any information from a student\\'s education record.\\n\\nThis privacy policy also governs how state agencies transmit testing data to federal agencies, such as the Education Data Exchange Network.\\n\\nThis U.S. federal law also gave students 18 years of age or older, or students of any age if enrolled in any post-secondary educational institution, the right of privacy regarding grades, enrollment, and even billing information unless the school has specific permission from the student to share that specific type of information.\\n\\nFERPA also permits a school to disclose personally identifiable information from education records of an \"eligible student\" (a student age 18 or older or enrolled in a postsecondary institution at any age) to his or her parents if the student is a \"dependent student\" as that term is defined in Section 152 of the Internal Revenue Code. Generally, if either parent has claimed the student as a dependent on the parent\\'s most recent income tax statement, the school may non-consensually disclose the student\\'s education records to both parents.[3]\\n\\nThe law allowed students who apply to an educational institution such as graduate school permission to view recommendations submitted by others as part of the application. However, on standard application forms, students are given the option to waive this right.\\n\\nFERPA specifically excludes employees of an educational institution if they are not students.\\n\\nThe act is also referred to as the Buckley Amendment, for one of its proponents, Senator James L. Buckley of New York.\\n\\nAccess to public records[edit]\\nThe citing of FERPA to conceal public records that are not \"educational\" in nature has been widely criticized, including by the act\\'s primary Senate sponsor.[4] For example, in the Owasso Independent School District v. Falvo case, an important part of the debate was determining the relationship between peer-grading and \"education records\" as defined in FERPA. In the Court of Appeals, it was ruled that students placing grades on the work of other students made such work into an \"education record.\" Thus, peer-grading was determined as a violation of FERPA privacy policies because students had access to other students\\' academic performance without full consent.[5] However, when the case went to the Supreme Court, it was officially ruled that peer-grading was not a violation of FERPA. This is because a grade written on a student\\'s work does not become an \"education record\" until the teacher writes the final grade into a grade book.[6]\\n\\nStudent medical records[edit]\\nLegal experts have debated the issue of whether student medical records (for example records of therapy sessions with a therapist at an on-campus counseling center) might be released to the school administration under certain triggering events, such as when a student sued his college or university.[7][8]\\n\\nUsually, student medical treatment records will remain under the protection of FERPA, not the Health Insurance Portability and Accountability Act (HIPAA). This is due to the \"FERPA Exception\" written within HIPAA.[9]'"
      ]
     },
     "execution_count": 42,
     "metadata": {},
     "output_type": "execute_result"
    }
   ],
   "source": [
    "with open(\"ferpa.txt\", \"r\") as file:\n",
    "    text = file.read()\n",
    "text"
   ]
  },
  {
   "cell_type": "code",
   "execution_count": 44,
   "id": "af541f2f",
   "metadata": {},
   "outputs": [
    {
     "data": {
      "text/plain": [
       "['Overview[edit]', 'records[edit]', 'records[edit]']"
      ]
     },
     "execution_count": 44,
     "metadata": {},
     "output_type": "execute_result"
    }
   ],
   "source": [
    "re.findall(\"[a-zA-Z]{1,100}\\[edit\\]\", text)"
   ]
  },
  {
   "cell_type": "code",
   "execution_count": 48,
   "id": "54cfa684",
   "metadata": {},
   "outputs": [
    {
     "data": {
      "text/plain": [
       "['Overview[edit]',\n",
       " 'Access to public records[edit]',\n",
       " 'Student medical records[edit]']"
      ]
     },
     "execution_count": 48,
     "metadata": {},
     "output_type": "execute_result"
    }
   ],
   "source": [
    "re.findall(\"[\\w ]*\\[edit\\]\", text)"
   ]
  },
  {
   "cell_type": "code",
   "execution_count": 49,
   "id": "255b1155",
   "metadata": {},
   "outputs": [
    {
     "name": "stdout",
     "output_type": "stream",
     "text": [
      "Overview\n",
      "Access to public records\n",
      "Student medical records\n"
     ]
    }
   ],
   "source": [
    "for t in re.findall(\"[\\w ]*\\[edit\\]\", text):\n",
    "    print(re.split(\"[\\[]\", t)[0])"
   ]
  },
  {
   "cell_type": "code",
   "execution_count": 50,
   "id": "22e6b96c",
   "metadata": {},
   "outputs": [
    {
     "data": {
      "text/plain": [
       "[('Overview', '[edit]'),\n",
       " ('Access to public records', '[edit]'),\n",
       " ('Student medical records', '[edit]')]"
      ]
     },
     "execution_count": 50,
     "metadata": {},
     "output_type": "execute_result"
    }
   ],
   "source": [
    "re.findall(\"([\\w ]*)(\\[edit\\])\", text)"
   ]
  },
  {
   "cell_type": "code",
   "execution_count": 51,
   "id": "c0e96e8d",
   "metadata": {},
   "outputs": [
    {
     "name": "stdout",
     "output_type": "stream",
     "text": [
      "('Overview', '[edit]')\n",
      "('Access to public records', '[edit]')\n",
      "('Student medical records', '[edit]')\n"
     ]
    }
   ],
   "source": [
    "for item in re.finditer(\"([\\w ]*)(\\[edit\\])\", text):\n",
    "    print(item.groups())"
   ]
  },
  {
   "cell_type": "code",
   "execution_count": 54,
   "id": "5d1408a4",
   "metadata": {},
   "outputs": [
    {
     "name": "stdout",
     "output_type": "stream",
     "text": [
      "Overview\n",
      "Access to public records\n",
      "Student medical records\n"
     ]
    }
   ],
   "source": [
    "for item in re.finditer(\"([\\w ]*)(\\[edit\\])\", text):\n",
    "    print(item.group(1))"
   ]
  }
 ],
 "metadata": {
  "kernelspec": {
   "display_name": "Python 3 (ipykernel)",
   "language": "python",
   "name": "python3"
  },
  "language_info": {
   "codemirror_mode": {
    "name": "ipython",
    "version": 3
   },
   "file_extension": ".py",
   "mimetype": "text/x-python",
   "name": "python",
   "nbconvert_exporter": "python",
   "pygments_lexer": "ipython3",
   "version": "3.9.1"
  }
 },
 "nbformat": 4,
 "nbformat_minor": 5
}
