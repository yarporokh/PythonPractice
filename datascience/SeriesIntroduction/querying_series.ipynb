{
 "cells": [
  {
   "cell_type": "code",
   "execution_count": 1,
   "id": "023bf4d0",
   "metadata": {},
   "outputs": [],
   "source": [
    "import pandas as pd"
   ]
  },
  {
   "cell_type": "code",
   "execution_count": 2,
   "id": "d8d36c3d",
   "metadata": {},
   "outputs": [
    {
     "data": {
      "text/plain": [
       "Jack      Officer\n",
       "Emma      Teacher\n",
       "George     Artist\n",
       "Bob        Cooker\n",
       "dtype: object"
      ]
     },
     "execution_count": 2,
     "metadata": {},
     "output_type": "execute_result"
    }
   ],
   "source": [
    "data = {'Jack':'Officer',\n",
    "        'Emma':'Teacher',\n",
    "        'George':'Artist',\n",
    "        'Bob':'Cooker'}\n",
    "workers = pd.Series(data)\n",
    "workers"
   ]
  },
  {
   "cell_type": "code",
   "execution_count": 3,
   "id": "54b4aad8",
   "metadata": {},
   "outputs": [
    {
     "data": {
      "text/plain": [
       "'Cooker'"
      ]
     },
     "execution_count": 3,
     "metadata": {},
     "output_type": "execute_result"
    }
   ],
   "source": [
    "workers.iloc[3]"
   ]
  },
  {
   "cell_type": "code",
   "execution_count": 4,
   "id": "bcd1d489",
   "metadata": {},
   "outputs": [
    {
     "data": {
      "text/plain": [
       "'Cooker'"
      ]
     },
     "execution_count": 4,
     "metadata": {},
     "output_type": "execute_result"
    }
   ],
   "source": [
    "workers.loc['Bob']"
   ]
  },
  {
   "cell_type": "code",
   "execution_count": 5,
   "id": "e3c288fc",
   "metadata": {},
   "outputs": [
    {
     "data": {
      "text/plain": [
       "'Cooker'"
      ]
     },
     "execution_count": 5,
     "metadata": {},
     "output_type": "execute_result"
    }
   ],
   "source": [
    "workers[3]"
   ]
  },
  {
   "cell_type": "code",
   "execution_count": 6,
   "id": "d8d002d8",
   "metadata": {},
   "outputs": [
    {
     "data": {
      "text/plain": [
       "'Cooker'"
      ]
     },
     "execution_count": 6,
     "metadata": {},
     "output_type": "execute_result"
    }
   ],
   "source": [
    "workers['Bob']"
   ]
  },
  {
   "cell_type": "code",
   "execution_count": 7,
   "id": "2fcb15ec",
   "metadata": {},
   "outputs": [
    {
     "name": "stdout",
     "output_type": "stream",
     "text": [
      "7.4\n"
     ]
    }
   ],
   "source": [
    "grades = pd.Series([8, 9, 9, 5, 6])\n",
    "\n",
    "total = 0\n",
    "for grade in grades:\n",
    "    total+=grade\n",
    "print(total/len(grades))"
   ]
  },
  {
   "cell_type": "code",
   "execution_count": 8,
   "id": "1a74667b",
   "metadata": {},
   "outputs": [
    {
     "name": "stdout",
     "output_type": "stream",
     "text": [
      "7.4\n"
     ]
    }
   ],
   "source": [
    "import numpy as np\n",
    "\n",
    "total = np.sum(grades) / len(grades)\n",
    "print(total)"
   ]
  },
  {
   "cell_type": "code",
   "execution_count": 9,
   "id": "7f5f7ebb",
   "metadata": {},
   "outputs": [
    {
     "data": {
      "text/plain": [
       "0    84\n",
       "1     7\n",
       "2    72\n",
       "3    69\n",
       "4    32\n",
       "dtype: int32"
      ]
     },
     "execution_count": 9,
     "metadata": {},
     "output_type": "execute_result"
    }
   ],
   "source": [
    "numbers = pd.Series(np.random.randint(0, 100, 1000))\n",
    "numbers.head()"
   ]
  },
  {
   "cell_type": "code",
   "execution_count": 10,
   "id": "835c5774",
   "metadata": {},
   "outputs": [
    {
     "name": "stdout",
     "output_type": "stream",
     "text": [
      "75.1 µs ± 2.04 µs per loop (mean ± std. dev. of 7 runs, 100 loops each)\n"
     ]
    }
   ],
   "source": [
    "%%timeit -n 100\n",
    "total = 0\n",
    "for number in numbers:\n",
    "    total+=number\n",
    "\n",
    "total/len(numbers)"
   ]
  },
  {
   "cell_type": "code",
   "execution_count": 11,
   "id": "8bf4d334",
   "metadata": {},
   "outputs": [
    {
     "name": "stdout",
     "output_type": "stream",
     "text": [
      "47.9 µs ± 2.47 µs per loop (mean ± std. dev. of 7 runs, 100 loops each)\n"
     ]
    }
   ],
   "source": [
    "%%timeit -n 100\n",
    "total = np.sum(numbers)\n",
    "total/len(numbers)"
   ]
  },
  {
   "cell_type": "code",
   "execution_count": 12,
   "id": "bca4a587",
   "metadata": {},
   "outputs": [
    {
     "data": {
      "text/plain": [
       "0    84\n",
       "1     7\n",
       "2    72\n",
       "3    69\n",
       "4    32\n",
       "dtype: int32"
      ]
     },
     "execution_count": 12,
     "metadata": {},
     "output_type": "execute_result"
    }
   ],
   "source": [
    "numbers.head()"
   ]
  },
  {
   "cell_type": "code",
   "execution_count": 13,
   "id": "7e26d34f",
   "metadata": {},
   "outputs": [
    {
     "data": {
      "text/plain": [
       "0    184\n",
       "1    107\n",
       "2    172\n",
       "3    169\n",
       "4    132\n",
       "dtype: int32"
      ]
     },
     "execution_count": 13,
     "metadata": {},
     "output_type": "execute_result"
    }
   ],
   "source": [
    "numbers+=100\n",
    "numbers.head()"
   ]
  },
  {
   "cell_type": "code",
   "execution_count": 14,
   "id": "179fa547",
   "metadata": {},
   "outputs": [
    {
     "name": "stdout",
     "output_type": "stream",
     "text": [
      "37.5 ms ± 706 µs per loop (mean ± std. dev. of 7 runs, 10 loops each)\n"
     ]
    }
   ],
   "source": [
    "%%timeit -n 10\n",
    "s = pd.Series(np.random.randint(0, 1000, 1000))\n",
    "\n",
    "for l, v in s.iteritems():\n",
    "    s.loc[l]= v + 100"
   ]
  },
  {
   "cell_type": "code",
   "execution_count": 15,
   "id": "5780b503",
   "metadata": {},
   "outputs": [
    {
     "name": "stdout",
     "output_type": "stream",
     "text": [
      "235 µs ± 36 µs per loop (mean ± std. dev. of 7 runs, 10 loops each)\n"
     ]
    }
   ],
   "source": [
    "%%timeit -n 10\n",
    "s = pd.Series(np.random.randint(0, 1000, 1000))\n",
    "s+= 100"
   ]
  },
  {
   "cell_type": "code",
   "execution_count": 16,
   "id": "a7337e5b",
   "metadata": {},
   "outputs": [
    {
     "data": {
      "text/plain": [
       "0        1\n",
       "1        2\n",
       "2        3\n",
       "ABC    122\n",
       "dtype: int64"
      ]
     },
     "execution_count": 16,
     "metadata": {},
     "output_type": "execute_result"
    }
   ],
   "source": [
    "s = pd.Series([1, 2, 3])\n",
    "\n",
    "s.loc['ABC'] = 122\n",
    "\n",
    "s"
   ]
  },
  {
   "cell_type": "code",
   "execution_count": 17,
   "id": "eb58df63",
   "metadata": {},
   "outputs": [
    {
     "data": {
      "text/plain": [
       "Jack        Officer\n",
       "Emma        Teacher\n",
       "George       Artist\n",
       "Bob          Cooker\n",
       "Kelly        Doctor\n",
       "Rob         Dantist\n",
       "Sam       Scientist\n",
       "dtype: object"
      ]
     },
     "execution_count": 17,
     "metadata": {},
     "output_type": "execute_result"
    }
   ],
   "source": [
    "workers2 = pd.Series(['Doctor', 'Dantist', 'Scientist'], index=['Kelly', 'Rob', 'Sam'])\n",
    "\n",
    "all_workers = workers.append(workers2)\n",
    "all_workers"
   ]
  },
  {
   "cell_type": "code",
   "execution_count": 18,
   "id": "20ea3293",
   "metadata": {},
   "outputs": [
    {
     "data": {
      "text/plain": [
       "George     Artist\n",
       "Bob        Cooker\n",
       "Kelly      Doctor\n",
       "Rob       Dantist\n",
       "dtype: object"
      ]
     },
     "execution_count": 18,
     "metadata": {},
     "output_type": "execute_result"
    }
   ],
   "source": [
    "all_workers.loc['George':'Rob']"
   ]
  },
  {
   "cell_type": "code",
   "execution_count": null,
   "id": "09885dce",
   "metadata": {},
   "outputs": [],
   "source": []
  }
 ],
 "metadata": {
  "kernelspec": {
   "display_name": "Python 3 (ipykernel)",
   "language": "python",
   "name": "python3"
  },
  "language_info": {
   "codemirror_mode": {
    "name": "ipython",
    "version": 3
   },
   "file_extension": ".py",
   "mimetype": "text/x-python",
   "name": "python",
   "nbconvert_exporter": "python",
   "pygments_lexer": "ipython3",
   "version": "3.9.1"
  }
 },
 "nbformat": 4,
 "nbformat_minor": 5
}
